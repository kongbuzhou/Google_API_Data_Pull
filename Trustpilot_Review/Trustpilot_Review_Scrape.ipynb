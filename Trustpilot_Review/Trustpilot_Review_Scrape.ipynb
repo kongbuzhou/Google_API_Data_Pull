{
 "cells": [
  {
   "cell_type": "code",
   "execution_count": 1,
   "metadata": {},
   "outputs": [
    {
     "name": "stderr",
     "output_type": "stream",
     "text": [
      "/anaconda3/lib/python3.6/site-packages/bs4/__init__.py:181: UserWarning: No parser was explicitly specified, so I'm using the best available HTML parser for this system (\"lxml\"). This usually isn't a problem, but if you run this code on another system, or in a different virtual environment, it may use a different parser and behave differently.\n",
      "\n",
      "The code that caused this warning is on line 193 of the file /anaconda3/lib/python3.6/runpy.py. To get rid of this warning, change code that looks like this:\n",
      "\n",
      " BeautifulSoup(YOUR_MARKUP})\n",
      "\n",
      "to this:\n",
      "\n",
      " BeautifulSoup(YOUR_MARKUP, \"lxml\")\n",
      "\n",
      "  markup_type=markup_type))\n"
     ]
    }
   ],
   "source": [
    "import requests\n",
    "import csv\n",
    "from bs4 import BeautifulSoup\n",
    "with open ('amazon.csv','w',newline='') as fp:\n",
    "    work=csv.writer(fp)\n",
    "    work.writerow(['date','rank','comments'])\n",
    "    #Change the url below\n",
    "    web=\"https://www.trustpilot.com/review/www.amazon.com?page=\"\n",
    "    #input the pages inside range() that you want to scrape \n",
    "    for page in range(1,182):\n",
    "        url=web+str(page)\n",
    "        r=requests.get(url)\n",
    "        soup=BeautifulSoup(r.content)\n",
    "        for item in soup.find_all('div',{'class':\"card\"}):\n",
    "            comment=item.find_all('p',{'class':'review-info__body__text'})[0].text.strip()\n",
    "            date=item.find_all('div',{'class':\"header__verified__date\"})[0].time.attrs['datetime'][0:10]\n",
    "            rank=item.find_all(\"div\",{\"class\":\"review-info__header__verified\"})[0].div.attrs['class'][1][12]\n",
    "            int(rank)\n",
    "            work.writerow([date,rank,comment])"
   ]
  },
  {
   "cell_type": "code",
   "execution_count": null,
   "metadata": {},
   "outputs": [],
   "source": []
  }
 ],
 "metadata": {
  "kernelspec": {
   "display_name": "Python 3",
   "language": "python",
   "name": "python3"
  },
  "language_info": {
   "codemirror_mode": {
    "name": "ipython",
    "version": 3
   },
   "file_extension": ".py",
   "mimetype": "text/x-python",
   "name": "python",
   "nbconvert_exporter": "python",
   "pygments_lexer": "ipython3",
   "version": "3.6.5"
  }
 },
 "nbformat": 4,
 "nbformat_minor": 2
}
